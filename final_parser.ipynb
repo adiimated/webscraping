{
 "cells": [
  {
   "cell_type": "code",
   "execution_count": 1,
   "id": "61d26d30",
   "metadata": {},
   "outputs": [],
   "source": [
    "import requests\n",
    "from bs4 import BeautifulSoup\n",
    "import pandas as pd"
   ]
  },
  {
   "cell_type": "code",
   "execution_count": 2,
   "id": "e034ae7c",
   "metadata": {},
   "outputs": [],
   "source": [
    "URL = 'https://www.tradeindia.com/manufacturers/bio-fertilizers.html'"
   ]
  },
  {
   "cell_type": "code",
   "execution_count": 3,
   "id": "3688879d",
   "metadata": {},
   "outputs": [],
   "source": [
    "HEADERS = {\n",
    "    'User-Agent': 'add_your_user_agent', \n",
    "    'Accept-Language': 'en-US, en;q=0.5'\n",
    "}"
   ]
  },
  {
   "cell_type": "code",
   "execution_count": 4,
   "id": "899bbc54",
   "metadata": {},
   "outputs": [],
   "source": [
    "def fetch_page(url):\n",
    "    response = requests.get(url, headers=HEADERS)\n",
    "    return response"
   ]
  },
  {
   "cell_type": "code",
   "execution_count": 5,
   "id": "460a6fa8",
   "metadata": {},
   "outputs": [],
   "source": [
    "def parse_product_links(page_content):\n",
    "    soup = BeautifulSoup(page_content, 'html.parser')\n",
    "    links = soup.find_all('a', attrs={'class':'product-title-position'})\n",
    "    return [link.get('href') for link in links]"
   ]
  },
  {
   "cell_type": "code",
   "execution_count": 9,
   "id": "5396acbb",
   "metadata": {},
   "outputs": [],
   "source": [
    "def fetch_product_details(url):\n",
    "    page = fetch_page(url)\n",
    "    soup = BeautifulSoup(page.content, 'html.parser')\n",
    "    details = {}\n",
    "\n",
    "    # Safe extraction function\n",
    "    def safe_find(tag, attrs):\n",
    "        element = soup.find(tag, attrs=attrs)\n",
    "        return element.text.strip() if element else 'Not Available'\n",
    "\n",
    "    details['product_name'] = safe_find('h1', {'class':'sc-99c38e0-3 crggkU m-0 Headline3'})\n",
    "    details['price'] = safe_find('h2', {'class':'sc-99c38e0-3 kpwqmK prPrice Headline3'})\n",
    "    details['rating'] = safe_find('span', {'class':'mr-1'})\n",
    "    details['company'] = safe_find('h2', {'class':'sc-99c38e0-1 dtjLEg co-name'})\n",
    "    details['contact_name'] = safe_find('p', {'class':'sc-99c38e0-13 bFlIdM m-0 mb-3 Body4R'})\n",
    "\n",
    "    # Address might require special handling if it's not always in the third element\n",
    "    elements = soup.find_all('p', attrs={'class': 'sc-99c38e0-13 bFlIdM m-0 mb-3 Body4R'})\n",
    "    details['address'] = elements[2].text.strip() if len(elements) >= 3 else 'Not Available'\n",
    "\n",
    "    return details"
   ]
  },
  {
   "cell_type": "code",
   "execution_count": 10,
   "id": "0bc389d6",
   "metadata": {},
   "outputs": [],
   "source": [
    "main_page = fetch_page(URL)\n",
    "product_urls = parse_product_links(main_page.content)"
   ]
  },
  {
   "cell_type": "code",
   "execution_count": 11,
   "id": "e1e20d39",
   "metadata": {},
   "outputs": [],
   "source": [
    "all_products = []\n",
    "for url in product_urls:\n",
    "    product_details = fetch_product_details(url)\n",
    "    all_products.append(product_details)"
   ]
  },
  {
   "cell_type": "code",
   "execution_count": 12,
   "id": "716bc325",
   "metadata": {},
   "outputs": [],
   "source": [
    "df = pd.DataFrame(all_products)"
   ]
  },
  {
   "cell_type": "code",
   "execution_count": 13,
   "id": "e60bf62f",
   "metadata": {},
   "outputs": [],
   "source": [
    "df.to_csv('bio_fertilizers.csv', index=False)"
   ]
  },
  {
   "cell_type": "code",
   "execution_count": null,
   "id": "3afdcc29",
   "metadata": {},
   "outputs": [],
   "source": []
  }
 ],
 "metadata": {
  "kernelspec": {
   "display_name": "Python 3 (ipykernel)",
   "language": "python",
   "name": "python3"
  },
  "language_info": {
   "codemirror_mode": {
    "name": "ipython",
    "version": 3
   },
   "file_extension": ".py",
   "mimetype": "text/x-python",
   "name": "python",
   "nbconvert_exporter": "python",
   "pygments_lexer": "ipython3",
   "version": "3.11.5"
  }
 },
 "nbformat": 4,
 "nbformat_minor": 5
}
